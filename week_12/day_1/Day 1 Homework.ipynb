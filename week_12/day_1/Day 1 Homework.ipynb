{
 "cells": [
  {
   "cell_type": "markdown",
   "id": "1eb3acd2",
   "metadata": {},
   "source": [
    "# Question 1\n",
    "\n",
    "Create a list with the following data, and assign it to a variable named shopping: 'spam' 'ham' 'eggs' 'ham'"
   ]
  },
  {
   "cell_type": "code",
   "execution_count": 2,
   "id": "a0af4c1a",
   "metadata": {},
   "outputs": [],
   "source": [
    "shopping = ['spam', 'ham', 'eggs', 'ham']"
   ]
  },
  {
   "cell_type": "markdown",
   "id": "69d81be0",
   "metadata": {},
   "source": [
    "- Extract the second element of the list."
   ]
  },
  {
   "cell_type": "code",
   "execution_count": 3,
   "id": "501aa5f2",
   "metadata": {},
   "outputs": [
    {
     "data": {
      "text/plain": [
       "'ham'"
      ]
     },
     "execution_count": 3,
     "metadata": {},
     "output_type": "execute_result"
    }
   ],
   "source": [
    "shopping[1]"
   ]
  },
  {
   "cell_type": "markdown",
   "id": "c9af57c9",
   "metadata": {},
   "source": [
    "- Extract the first to third (inclusive) element of the list."
   ]
  },
  {
   "cell_type": "code",
   "execution_count": 4,
   "id": "c7cb85a5",
   "metadata": {},
   "outputs": [
    {
     "data": {
      "text/plain": [
       "['spam', 'ham', 'eggs']"
      ]
     },
     "execution_count": 4,
     "metadata": {},
     "output_type": "execute_result"
    }
   ],
   "source": [
    "shopping[:3]"
   ]
  },
  {
   "cell_type": "markdown",
   "id": "37ae3aec",
   "metadata": {},
   "source": [
    "- Extract only the last element of the list."
   ]
  },
  {
   "cell_type": "code",
   "execution_count": 5,
   "id": "13767104",
   "metadata": {},
   "outputs": [
    {
     "data": {
      "text/plain": [
       "'ham'"
      ]
     },
     "execution_count": 5,
     "metadata": {},
     "output_type": "execute_result"
    }
   ],
   "source": [
    "shopping[-1]"
   ]
  },
  {
   "cell_type": "markdown",
   "id": "e535d186",
   "metadata": {},
   "source": [
    "# Question 2"
   ]
  },
  {
   "cell_type": "markdown",
   "id": "7b4506e5",
   "metadata": {},
   "source": [
    "Set up a list with the following elements:\n",
    "\n",
    "stops = [\"Croy\", \"Cumbernauld\", \"Falkirk High\", \"Linlithgow\", \"Livingston\", \"Haymarket\"]"
   ]
  },
  {
   "cell_type": "code",
   "execution_count": 10,
   "id": "0c6d5ec8",
   "metadata": {},
   "outputs": [],
   "source": [
    "stops = [\"Croy\", \"Cumbernauld\", \"Falkirk High\", \"Linlithgow\", \"Livingston\", \"Haymarket\"]"
   ]
  },
  {
   "cell_type": "markdown",
   "id": "d1721a54",
   "metadata": {},
   "source": [
    "- Append Edinburgh Waverley to the end of the list"
   ]
  },
  {
   "cell_type": "code",
   "execution_count": 11,
   "id": "0d18a5f8",
   "metadata": {},
   "outputs": [],
   "source": [
    "stops.append(\"Edinburgh Waverley\")\n"
   ]
  },
  {
   "cell_type": "code",
   "execution_count": 13,
   "id": "6ae58ff1",
   "metadata": {},
   "outputs": [
    {
     "data": {
      "text/plain": [
       "['Croy',\n",
       " 'Cumbernauld',\n",
       " 'Falkirk High',\n",
       " 'Linlithgow',\n",
       " 'Livingston',\n",
       " 'Haymarket',\n",
       " 'Edinburgh Waverley']"
      ]
     },
     "execution_count": 13,
     "metadata": {},
     "output_type": "execute_result"
    }
   ],
   "source": [
    "stops"
   ]
  },
  {
   "cell_type": "markdown",
   "id": "a77f1e5f",
   "metadata": {},
   "source": [
    "- Add \"Queen Street\" to the start of the list"
   ]
  },
  {
   "cell_type": "code",
   "execution_count": 14,
   "id": "e23a1d88",
   "metadata": {},
   "outputs": [],
   "source": [
    "stops.insert(0, \"Queen Street\")"
   ]
  },
  {
   "cell_type": "code",
   "execution_count": 16,
   "id": "7bedefe8",
   "metadata": {},
   "outputs": [
    {
     "data": {
      "text/plain": [
       "['Queen Street',\n",
       " 'Croy',\n",
       " 'Cumbernauld',\n",
       " 'Falkirk High',\n",
       " 'Linlithgow',\n",
       " 'Livingston',\n",
       " 'Haymarket',\n",
       " 'Edinburgh Waverley']"
      ]
     },
     "execution_count": 16,
     "metadata": {},
     "output_type": "execute_result"
    }
   ],
   "source": [
    "stops"
   ]
  },
  {
   "cell_type": "markdown",
   "id": "ca234eb5",
   "metadata": {},
   "source": [
    "- Find out what index \"Croy\" is at in the list"
   ]
  },
  {
   "cell_type": "code",
   "execution_count": 17,
   "id": "d67355d6",
   "metadata": {},
   "outputs": [],
   "source": [
    "index = stops.index(\"Croy\")"
   ]
  },
  {
   "cell_type": "code",
   "execution_count": 18,
   "id": "6b77c027",
   "metadata": {},
   "outputs": [
    {
     "data": {
      "text/plain": [
       "1"
      ]
     },
     "execution_count": 18,
     "metadata": {},
     "output_type": "execute_result"
    }
   ],
   "source": [
    "index"
   ]
  },
  {
   "cell_type": "markdown",
   "id": "2f1cd6db",
   "metadata": {},
   "source": [
    "- Add \"Polmont\" at the appropriate point (between \"Falkirk High\" and \"Linlithgow\")"
   ]
  },
  {
   "cell_type": "code",
   "execution_count": 19,
   "id": "1451a028",
   "metadata": {},
   "outputs": [],
   "source": [
    "stops.insert(4, \"Polmont\")"
   ]
  },
  {
   "cell_type": "code",
   "execution_count": 20,
   "id": "7ae3c923",
   "metadata": {},
   "outputs": [
    {
     "data": {
      "text/plain": [
       "['Queen Street',\n",
       " 'Croy',\n",
       " 'Cumbernauld',\n",
       " 'Falkirk High',\n",
       " 'Polmont',\n",
       " 'Linlithgow',\n",
       " 'Livingston',\n",
       " 'Haymarket',\n",
       " 'Edinburgh Waverley']"
      ]
     },
     "execution_count": 20,
     "metadata": {},
     "output_type": "execute_result"
    }
   ],
   "source": [
    "stops"
   ]
  },
  {
   "cell_type": "markdown",
   "id": "bd5b80fc",
   "metadata": {},
   "source": [
    "- Remove \"Haymarket\" from the list of stops"
   ]
  },
  {
   "cell_type": "code",
   "execution_count": 21,
   "id": "cfedfe2b",
   "metadata": {},
   "outputs": [],
   "source": [
    "stops.remove(\"Haymarket\")"
   ]
  },
  {
   "cell_type": "code",
   "execution_count": 22,
   "id": "e78c27ab",
   "metadata": {},
   "outputs": [
    {
     "data": {
      "text/plain": [
       "['Queen Street',\n",
       " 'Croy',\n",
       " 'Cumbernauld',\n",
       " 'Falkirk High',\n",
       " 'Polmont',\n",
       " 'Linlithgow',\n",
       " 'Livingston',\n",
       " 'Edinburgh Waverley']"
      ]
     },
     "execution_count": 22,
     "metadata": {},
     "output_type": "execute_result"
    }
   ],
   "source": [
    "stops"
   ]
  },
  {
   "cell_type": "markdown",
   "id": "a0b5b45e",
   "metadata": {},
   "source": [
    "- Remove all items from stops"
   ]
  },
  {
   "cell_type": "code",
   "execution_count": 23,
   "id": "3e9976ca",
   "metadata": {},
   "outputs": [],
   "source": [
    "stops.clear()"
   ]
  },
  {
   "cell_type": "code",
   "execution_count": 24,
   "id": "9e8c2bf5",
   "metadata": {},
   "outputs": [
    {
     "data": {
      "text/plain": [
       "[]"
      ]
     },
     "execution_count": 24,
     "metadata": {},
     "output_type": "execute_result"
    }
   ],
   "source": [
    "stops"
   ]
  },
  {
   "cell_type": "markdown",
   "id": "e823aa77",
   "metadata": {},
   "source": [
    "# Question 3"
   ]
  },
  {
   "cell_type": "code",
   "execution_count": 26,
   "id": "f90f054b",
   "metadata": {},
   "outputs": [],
   "source": [
    "person = {\"name\": \"Steph\", \n",
    "          \"age\": 31, \n",
    "          \"Instructor\" : True}"
   ]
  },
  {
   "cell_type": "markdown",
   "id": "1ef186c7",
   "metadata": {},
   "source": [
    "- Return the keys, values and items from this dictionary"
   ]
  },
  {
   "cell_type": "code",
   "execution_count": 31,
   "id": "d148128b",
   "metadata": {},
   "outputs": [
    {
     "data": {
      "text/plain": [
       "dict_items([('name', 'Steph'), ('age', 31), ('Instructor', True)])"
      ]
     },
     "execution_count": 31,
     "metadata": {},
     "output_type": "execute_result"
    }
   ],
   "source": [
    "person.items()"
   ]
  },
  {
   "cell_type": "markdown",
   "id": "404a3854",
   "metadata": {},
   "source": [
    "- Take out only the name from it"
   ]
  },
  {
   "cell_type": "code",
   "execution_count": 33,
   "id": "71107fa6",
   "metadata": {},
   "outputs": [
    {
     "data": {
      "text/plain": [
       "'Steph'"
      ]
     },
     "execution_count": 33,
     "metadata": {},
     "output_type": "execute_result"
    }
   ],
   "source": [
    "person['name']"
   ]
  },
  {
   "cell_type": "markdown",
   "id": "e32c33bb",
   "metadata": {},
   "source": [
    "- Add a new key:value pair, which adds the email \"steph@codeclan.com\" to the dictionary"
   ]
  },
  {
   "cell_type": "code",
   "execution_count": 34,
   "id": "7ee7aec5",
   "metadata": {},
   "outputs": [],
   "source": [
    "person.update({'email': 'steph@codeclan.com'})"
   ]
  },
  {
   "cell_type": "code",
   "execution_count": 36,
   "id": "e49bfe7c",
   "metadata": {},
   "outputs": [
    {
     "data": {
      "text/plain": [
       "{'name': 'Steph', 'age': 31, 'Instructor': True, 'email': 'steph@codeclan.com'}"
      ]
     },
     "execution_count": 36,
     "metadata": {},
     "output_type": "execute_result"
    }
   ],
   "source": [
    "person"
   ]
  },
  {
   "cell_type": "markdown",
   "id": "44346c3d",
   "metadata": {},
   "source": [
    "- Delete the job description from the dictionary (Hint: look up the del function)"
   ]
  },
  {
   "cell_type": "code",
   "execution_count": 37,
   "id": "4206bb34",
   "metadata": {},
   "outputs": [],
   "source": [
    "del person['Instructor']"
   ]
  },
  {
   "cell_type": "code",
   "execution_count": 38,
   "id": "fb089fe9",
   "metadata": {},
   "outputs": [
    {
     "data": {
      "text/plain": [
       "{'name': 'Steph', 'age': 31, 'email': 'steph@codeclan.com'}"
      ]
     },
     "execution_count": 38,
     "metadata": {},
     "output_type": "execute_result"
    }
   ],
   "source": [
    "person"
   ]
  },
  {
   "cell_type": "markdown",
   "id": "848a938e",
   "metadata": {},
   "source": [
    "# Question 4"
   ]
  },
  {
   "cell_type": "code",
   "execution_count": 39,
   "id": "484f0b90",
   "metadata": {},
   "outputs": [],
   "source": [
    "numbers = [1, 6, 2, 2, 7, 1, 6, 13, 99, 7]"
   ]
  },
  {
   "cell_type": "markdown",
   "id": "d840984d",
   "metadata": {},
   "source": [
    "- Print out a list of the even integers:"
   ]
  },
  {
   "cell_type": "code",
   "execution_count": 50,
   "id": "2c9782c9",
   "metadata": {},
   "outputs": [
    {
     "data": {
      "text/plain": [
       "[6, 2, 2, 6]"
      ]
     },
     "execution_count": 50,
     "metadata": {},
     "output_type": "execute_result"
    }
   ],
   "source": [
    "[n for n in numbers if n % 2 == 0]\n",
    "    "
   ]
  },
  {
   "cell_type": "markdown",
   "id": "f362aac2",
   "metadata": {},
   "source": [
    "- Print the difference between the largest and smallest value:"
   ]
  },
  {
   "cell_type": "code",
   "execution_count": 54,
   "id": "5c82c27f",
   "metadata": {},
   "outputs": [
    {
     "data": {
      "text/plain": [
       "98"
      ]
     },
     "execution_count": 54,
     "metadata": {},
     "output_type": "execute_result"
    }
   ],
   "source": [
    "max(numbers) - min(numbers)"
   ]
  },
  {
   "cell_type": "markdown",
   "id": "267cf40a",
   "metadata": {},
   "source": [
    "- Print True if the list contains a 2 next to a 2 somewhere."
   ]
  },
  {
   "cell_type": "code",
   "execution_count": 55,
   "id": "e62179bc",
   "metadata": {},
   "outputs": [
    {
     "data": {
      "text/plain": [
       "True"
      ]
     },
     "execution_count": 55,
     "metadata": {},
     "output_type": "execute_result"
    }
   ],
   "source": [
    "any(numbers[i] == numbers[i+1] for i in range(len(numbers)-1))"
   ]
  },
  {
   "cell_type": "markdown",
   "id": "f2970da0",
   "metadata": {},
   "source": [
    "- Print the sum of the numbers, BUT ignore any section of numbers starting with a 6 and extending to the next 7. So [11, 6, 4, 99, 7, 11] would have sum of 22"
   ]
  },
  {
   "cell_type": "code",
   "execution_count": 69,
   "id": "7b9db1d5",
   "metadata": {},
   "outputs": [],
   "source": [
    "def my_sum(my_list):\n",
    "    it = iter(my_list)\n",
    "    return sum(x for x in it\n",
    "               if x != 6 or 7 not in it)"
   ]
  },
  {
   "cell_type": "code",
   "execution_count": 71,
   "id": "8fc5dab5",
   "metadata": {},
   "outputs": [],
   "source": [
    "my_list = [11, 6, 4, 99, 7, 11]"
   ]
  },
  {
   "cell_type": "code",
   "execution_count": 72,
   "id": "0b0bf39d",
   "metadata": {},
   "outputs": [
    {
     "data": {
      "text/plain": [
       "22"
      ]
     },
     "execution_count": 72,
     "metadata": {},
     "output_type": "execute_result"
    }
   ],
   "source": [
    "my_sum(my_list)"
   ]
  },
  {
   "cell_type": "markdown",
   "id": "6de51970",
   "metadata": {},
   "source": [
    "# Question 5"
   ]
  },
  {
   "cell_type": "code",
   "execution_count": 51,
   "id": "8b1e1802",
   "metadata": {},
   "outputs": [],
   "source": [
    "python_is_fun = True\n",
    "python_is_weird = True"
   ]
  },
  {
   "cell_type": "code",
   "execution_count": 59,
   "id": "10686a0d",
   "metadata": {},
   "outputs": [],
   "source": [
    "def my_function(x, y):\n",
    "    if x == True or y == True:\n",
    "        print(\"Woo Python!!\")\n",
    "    \n",
    "    else:\n",
    "        print(\"Python is not for me\")\n",
    "    "
   ]
  },
  {
   "cell_type": "code",
   "execution_count": 65,
   "id": "b12ff645",
   "metadata": {},
   "outputs": [
    {
     "name": "stdout",
     "output_type": "stream",
     "text": [
      "Python is not for me\n"
     ]
    }
   ],
   "source": [
    "my_function(False, False)"
   ]
  },
  {
   "cell_type": "markdown",
   "id": "3ebcee82",
   "metadata": {},
   "source": [
    "# Question 6"
   ]
  },
  {
   "cell_type": "code",
   "execution_count": null,
   "id": "515fe29f",
   "metadata": {},
   "outputs": [],
   "source": [
    "total_eggs = 0\n",
    "\n",
    "for chicken in chickens:\n",
    "    total_eggs += chicken[\"eggs\"]\n",
    "    chicken[\"eggs\"] = 0 # eggs have been collected\n",
    "\n",
    "print(f\"{total_eggs} eggs collected\")"
   ]
  },
  {
   "cell_type": "code",
   "execution_count": null,
   "id": "ab887a4b",
   "metadata": {},
   "outputs": [],
   "source": [
    "def chicken(chickens = []):\n",
    "    total_eggs += chicken['eggs']\n"
   ]
  },
  {
   "cell_type": "code",
   "execution_count": null,
   "id": "b6395800",
   "metadata": {},
   "outputs": [],
   "source": []
  },
  {
   "cell_type": "code",
   "execution_count": null,
   "id": "ea060b06",
   "metadata": {},
   "outputs": [],
   "source": []
  },
  {
   "cell_type": "code",
   "execution_count": null,
   "id": "6b103009",
   "metadata": {},
   "outputs": [],
   "source": []
  },
  {
   "cell_type": "code",
   "execution_count": null,
   "id": "ccd92aa8",
   "metadata": {},
   "outputs": [],
   "source": []
  },
  {
   "cell_type": "code",
   "execution_count": null,
   "id": "1814d2ef",
   "metadata": {},
   "outputs": [],
   "source": []
  },
  {
   "cell_type": "code",
   "execution_count": null,
   "id": "9c81b2db",
   "metadata": {},
   "outputs": [],
   "source": []
  },
  {
   "cell_type": "code",
   "execution_count": null,
   "id": "7977f92f",
   "metadata": {},
   "outputs": [],
   "source": []
  }
 ],
 "metadata": {
  "kernelspec": {
   "display_name": "Python 3 (ipykernel)",
   "language": "python",
   "name": "python3"
  },
  "language_info": {
   "codemirror_mode": {
    "name": "ipython",
    "version": 3
   },
   "file_extension": ".py",
   "mimetype": "text/x-python",
   "name": "python",
   "nbconvert_exporter": "python",
   "pygments_lexer": "ipython3",
   "version": "3.9.7"
  }
 },
 "nbformat": 4,
 "nbformat_minor": 5
}
